{
  "nbformat": 4,
  "nbformat_minor": 0,
  "metadata": {
    "colab": {
      "provenance": [],
      "include_colab_link": true
    },
    "kernelspec": {
      "name": "python3",
      "display_name": "Python 3"
    },
    "language_info": {
      "name": "python"
    }
  },
  "cells": [
    {
      "cell_type": "markdown",
      "metadata": {
        "id": "view-in-github",
        "colab_type": "text"
      },
      "source": [
        "<a href=\"https://colab.research.google.com/github/NanaoPixels/FGLB/blob/main/Folder2PDF.ipynb\" target=\"_parent\"><img src=\"https://colab.research.google.com/assets/colab-badge.svg\" alt=\"Open In Colab\"/></a>"
      ]
    },
    {
      "cell_type": "code",
      "execution_count": null,
      "metadata": {
        "colab": {
          "base_uri": "https://localhost:8080/"
        },
        "id": "AB06_ci-k4Nx",
        "outputId": "436e5f75-0099-4dd6-9bbe-c2cbdeb506c5"
      },
      "outputs": [
        {
          "output_type": "stream",
          "name": "stdout",
          "text": [
            "274 arquivos JPG convertidos para pdf/Steins;Gate 0 Official Visual Materials Amadeus' Script.pdf\n"
          ]
        }
      ],
      "source": [
        "from PIL import Image\n",
        "import os\n",
        "\n",
        "pasta = \"Steins;Gate 0 Official Visual Materials Amadeus' Script\"\n",
        "\n",
        "def convert_jpg_to_pdf(jpg_folder_path, pdf_path):\n",
        "    # lista todos os arquivos jpg no diretório\n",
        "    jpg_files = [os.path.join(jpg_folder_path, f) for f in os.listdir(jpg_folder_path) if f.endswith('.jpg')]\n",
        "\n",
        "    # classifica os arquivos por nome de arquivo\n",
        "    jpg_files.sort()\n",
        "\n",
        "    # abre a primeira imagem\n",
        "    img = Image.open(jpg_files[0])\n",
        "\n",
        "    # converte a imagem para PDF\n",
        "    img.save(pdf_path, \"PDF\" ,resolution=100.0, save_all=True, append_images=[Image.open(i) for i in jpg_files[1:]])\n",
        "\n",
        "    print(f'{len(jpg_files)} arquivos JPG convertidos para {pdf_path}')\n",
        "\n",
        "# caminho da pasta com os arquivos JPG\n",
        "jpg_folder_path = pasta\n",
        "\n",
        "# caminho para o arquivo PDF de saída\n",
        "pdf_path = \"pdf/\"+pasta+\".pdf\"\n",
        "\n",
        "# chama a função para converter os arquivos\n",
        "convert_jpg_to_pdf(jpg_folder_path, pdf_path)"
      ]
    }
  ]
}